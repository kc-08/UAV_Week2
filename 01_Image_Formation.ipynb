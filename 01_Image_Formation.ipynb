{
 "cells": [
  {
   "cell_type": "markdown",
   "metadata": {},
   "source": [
    "# Pinhole Camera Model Practice Questions"
   ]
  },
  {
   "cell_type": "markdown",
   "metadata": {},
   "source": [
    "## Question 1: Perspective Projection"
   ]
  },
  {
   "cell_type": "markdown",
   "metadata": {},
   "source": [
    "A 3D point in the camera coordinate system is given by `p_c = [10, 5, 20]`. \n",
    "The camera has a focal length `f` of 50mm. \n",
    "Calculate the position of the projection of this point on the image plane in meters."
   ]
  },
  {
   "cell_type": "code",
   "execution_count": 13,
   "metadata": {},
   "outputs": [
    {
     "name": "stdout",
     "output_type": "stream",
     "text": [
      "(0.025, 0.0125)\n"
     ]
    }
   ],
   "source": [
    "# Your code here\n",
    "import numpy as np\n",
    "p_c = [10, 5, 20]\n",
    "f = 0.05\n",
    "u_c = f*(p_c[0]/p_c[2])\n",
    "v_c = f*(p_c[1]/p_c[2])\n",
    "p_m = (u_c, v_c)\n",
    "print(p_m)"
   ]
  },
  {
   "cell_type": "markdown",
   "metadata": {},
   "source": [
    "---"
   ]
  },
  {
   "cell_type": "markdown",
   "metadata": {},
   "source": [
    "## Question 2: Conversion to Pixels"
   ]
  },
  {
   "cell_type": "markdown",
   "metadata": {},
   "source": [
    "Given the projected point from Question 1, convert its coordinates from meters to pixels. \n",
    "Assume the following intrinsic parameters: \n",
    "- `s_x` = 800 pixels/meter\n",
    "- `s_y` = 800 pixels/meter\n",
    "- `o_x` = 320 pixels\n",
    "- `o_y` = 240 pixels\n",
    "What are the pixel coordinates `(u^I, v^I)`?"
   ]
  },
  {
   "cell_type": "code",
   "execution_count": 15,
   "metadata": {},
   "outputs": [
    {
     "name": "stdout",
     "output_type": "stream",
     "text": [
      "340.0 250.0\n"
     ]
    }
   ],
   "source": [
    "# Your code here\n",
    "s_x = 800\n",
    "s_y = 800\n",
    "o_x = 320\n",
    "o_y = 240\n",
    "u_I = s_x*p_m[0] + o_x\n",
    "v_I = s_y*p_m[1] + o_y\n",
    "print (u_I, v_I)"
   ]
  },
  {
   "cell_type": "markdown",
   "metadata": {},
   "source": [
    "---"
   ]
  },
  {
   "cell_type": "markdown",
   "metadata": {},
   "source": [
    "## Question 3: Intrinsic Matrix"
   ]
  },
  {
   "cell_type": "markdown",
   "metadata": {},
   "source": [
    "Construct the intrinsic calibration matrix `K` using the parameters from Question 2, assuming no skew (`s_θ = 0`)."
   ]
  },
  {
   "cell_type": "code",
   "execution_count": 19,
   "metadata": {},
   "outputs": [
    {
     "name": "stdout",
     "output_type": "stream",
     "text": [
      "[[ 40.   0. 320.]\n",
      " [  0.  40. 240.]\n",
      " [  0.   0.   1.]]\n"
     ]
    }
   ],
   "source": [
    "# Your code here\n",
    "s_θ = 0\n",
    "K = np.array([[s_x*f, s_θ*f, o_x],[0, s_y*f, o_y], [0, 0, 1]])\n",
    "print(K)"
   ]
  },
  {
   "cell_type": "markdown",
   "metadata": {},
   "source": [
    "---"
   ]
  },
  {
   "cell_type": "markdown",
   "metadata": {},
   "source": [
    "## Question 4: Point Projection with Known Pose"
   ]
  },
  {
   "cell_type": "markdown",
   "metadata": {},
   "source": [
    "A point in the world frame is given by `p_w = [2, 3, 50]`. The camera's pose `T_w^c` is given by an identity rotation matrix and a translation vector `t_w^c = [0, 0, 10]`. [cite_start]Using the intrinsic matrix `K` from Question 3, calculate the pixel coordinates of the projected point. [cite: 14, 16, 17]"
   ]
  },
  {
   "cell_type": "code",
   "execution_count": 53,
   "metadata": {},
   "outputs": [
    {
     "name": "stdout",
     "output_type": "stream",
     "text": [
      "321.3333333333333 242.0\n"
     ]
    }
   ],
   "source": [
    "# Your code here\n",
    "p_w = np.array([2, 3, 50, 1])\n",
    "t_w_c = np.array([0, 0, 10])\n",
    "t_w_c_reshape = t_w_c.reshape(3,1)\n",
    "R = [[1, 0, 0], [0, 1, 0], [0, 0, 1]]\n",
    "ext_cal = np.hstack((R, t_w_c_reshape))\n",
    "P = K @ ext_cal\n",
    "P_p_w = P @ p_w \n",
    "u_I2 = P_p_w[0]/P_p_w[2]\n",
    "v_I2 = P_p_w[1]/P_p_w[2]\n",
    "print(u_I1,v_I2)"
   ]
  },
  {
   "cell_type": "markdown",
   "metadata": {},
   "source": [
    "---"
   ]
  },
  {
   "cell_type": "markdown",
   "metadata": {},
   "source": [
    "## Question 5: Radial Distortion"
   ]
  },
  {
   "cell_type": "markdown",
   "metadata": {},
   "source": [
    "A point is projected on the image plane at `(u_distort^I, v_distort^I) = (400, 350)` including radial distortion. Given distortion coefficients `a1 = 0.0001` and `a2 = 0.0000002` and the principal point `(o_x, o_y) = (320, 240)`, calculate the corrected pixel coordinates `(u^I, v^I)`."
   ]
  },
  {
   "cell_type": "code",
   "execution_count": 61,
   "metadata": {},
   "outputs": [
    {
     "name": "stdout",
     "output_type": "stream",
     "text": [
      "1279560.0 1759195.0\n"
     ]
    }
   ],
   "source": [
    "# Your code here\n",
    "(u_distort_I, v_distort_I) = (400, 350)\n",
    "a1 = 0.0001\n",
    "a2 = 0.0000002\n",
    "(o_x, o_y) = (320, 240)\n",
    "r_squared = (u_distort_I)**2 + (v_distort_I)**2\n",
    "u_I3 = (1 + a1*r_squared + a2*r_squared**2)*(u_distort_I - o_x) + o_x\n",
    "v_I3 = (1 + a1*r_squared + a2*r_squared**2)*(v_distort_I - o_y) + o_y\n",
    "print(u_I3, v_I3)"
   ]
  },
  {
   "cell_type": "code",
   "execution_count": null,
   "metadata": {},
   "outputs": [],
   "source": []
  }
 ],
 "metadata": {
  "kernelspec": {
   "display_name": "Python [conda env:base] *",
   "language": "python",
   "name": "conda-base-py"
  },
  "language_info": {
   "codemirror_mode": {
    "name": "ipython",
    "version": 3
   },
   "file_extension": ".py",
   "mimetype": "text/x-python",
   "name": "python",
   "nbconvert_exporter": "python",
   "pygments_lexer": "ipython3",
   "version": "3.12.7"
  }
 },
 "nbformat": 4,
 "nbformat_minor": 4
}
